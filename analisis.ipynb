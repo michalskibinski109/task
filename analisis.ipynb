{
 "cells": [
  {
   "cell_type": "code",
   "execution_count": 1,
   "metadata": {},
   "outputs": [],
   "source": [
    "import pandas as pd\n",
    "import matplotlib.pyplot as plt"
   ]
  },
  {
   "cell_type": "markdown",
   "metadata": {},
   "source": [
    "### importowanie danych z pliku"
   ]
  },
  {
   "cell_type": "code",
   "execution_count": 2,
   "metadata": {},
   "outputs": [
    {
     "data": {
      "text/html": [
       "<div>\n",
       "<style scoped>\n",
       "    .dataframe tbody tr th:only-of-type {\n",
       "        vertical-align: middle;\n",
       "    }\n",
       "\n",
       "    .dataframe tbody tr th {\n",
       "        vertical-align: top;\n",
       "    }\n",
       "\n",
       "    .dataframe thead th {\n",
       "        text-align: right;\n",
       "    }\n",
       "</style>\n",
       "<table border=\"1\" class=\"dataframe\">\n",
       "  <thead>\n",
       "    <tr style=\"text-align: right;\">\n",
       "      <th></th>\n",
       "      <th>dataStream</th>\n",
       "      <th>rowCount</th>\n",
       "      <th>probingTimestamp</th>\n",
       "    </tr>\n",
       "  </thead>\n",
       "  <tbody>\n",
       "    <tr>\n",
       "      <th>0</th>\n",
       "      <td>BCL_TaskCreation</td>\n",
       "      <td>315349655</td>\n",
       "      <td>2020-01-13 09:33:00.497</td>\n",
       "    </tr>\n",
       "    <tr>\n",
       "      <th>1</th>\n",
       "      <td>BCL_TaskCreation</td>\n",
       "      <td>315349655</td>\n",
       "      <td>2020-01-13 09:34:00.157</td>\n",
       "    </tr>\n",
       "    <tr>\n",
       "      <th>2</th>\n",
       "      <td>BCL_TaskCreation</td>\n",
       "      <td>314533770</td>\n",
       "      <td>2020-01-11 01:18:00.143</td>\n",
       "    </tr>\n",
       "    <tr>\n",
       "      <th>3</th>\n",
       "      <td>BCL_TaskCreation</td>\n",
       "      <td>289249872</td>\n",
       "      <td>2020-04-05 16:10:00.333</td>\n",
       "    </tr>\n",
       "    <tr>\n",
       "      <th>4</th>\n",
       "      <td>BCL_TaskCreation</td>\n",
       "      <td>289249872</td>\n",
       "      <td>2020-04-05 16:11:00.883</td>\n",
       "    </tr>\n",
       "    <tr>\n",
       "      <th>...</th>\n",
       "      <td>...</td>\n",
       "      <td>...</td>\n",
       "      <td>...</td>\n",
       "    </tr>\n",
       "    <tr>\n",
       "      <th>160730</th>\n",
       "      <td>BCL_TaskCreation</td>\n",
       "      <td>289702842</td>\n",
       "      <td>2020-05-02 04:43:00.767</td>\n",
       "    </tr>\n",
       "    <tr>\n",
       "      <th>160731</th>\n",
       "      <td>BCL_TaskCreation</td>\n",
       "      <td>289702943</td>\n",
       "      <td>2020-05-02 07:26:01.040</td>\n",
       "    </tr>\n",
       "    <tr>\n",
       "      <th>160732</th>\n",
       "      <td>BCL_TaskCreation</td>\n",
       "      <td>289702883</td>\n",
       "      <td>2020-05-02 06:10:00.157</td>\n",
       "    </tr>\n",
       "    <tr>\n",
       "      <th>160733</th>\n",
       "      <td>BCL_TaskCreation</td>\n",
       "      <td>289702842</td>\n",
       "      <td>2020-05-02 04:18:00.117</td>\n",
       "    </tr>\n",
       "    <tr>\n",
       "      <th>160734</th>\n",
       "      <td>BCL_TaskCreation</td>\n",
       "      <td>289702883</td>\n",
       "      <td>2020-05-02 06:11:00.597</td>\n",
       "    </tr>\n",
       "  </tbody>\n",
       "</table>\n",
       "<p>160735 rows × 3 columns</p>\n",
       "</div>"
      ],
      "text/plain": [
       "              dataStream   rowCount         probingTimestamp\n",
       "0       BCL_TaskCreation  315349655  2020-01-13 09:33:00.497\n",
       "1       BCL_TaskCreation  315349655  2020-01-13 09:34:00.157\n",
       "2       BCL_TaskCreation  314533770  2020-01-11 01:18:00.143\n",
       "3       BCL_TaskCreation  289249872  2020-04-05 16:10:00.333\n",
       "4       BCL_TaskCreation  289249872  2020-04-05 16:11:00.883\n",
       "...                  ...        ...                      ...\n",
       "160730  BCL_TaskCreation  289702842  2020-05-02 04:43:00.767\n",
       "160731  BCL_TaskCreation  289702943  2020-05-02 07:26:01.040\n",
       "160732  BCL_TaskCreation  289702883  2020-05-02 06:10:00.157\n",
       "160733  BCL_TaskCreation  289702842  2020-05-02 04:18:00.117\n",
       "160734  BCL_TaskCreation  289702883  2020-05-02 06:11:00.597\n",
       "\n",
       "[160735 rows x 3 columns]"
      ]
     },
     "execution_count": 2,
     "metadata": {},
     "output_type": "execute_result"
    }
   ],
   "source": [
    "df = pd.read_csv('./BCL_TaskCreation.csv', sep = ';')\n",
    "df"
   ]
  },
  {
   "cell_type": "code",
   "execution_count": 3,
   "metadata": {},
   "outputs": [
    {
     "data": {
      "text/plain": [
       "True"
      ]
     },
     "execution_count": 3,
     "metadata": {},
     "output_type": "execute_result"
    }
   ],
   "source": [
    "sum(df.duplicated(['dataStream'])) == len(df) - 1"
   ]
  },
  {
   "cell_type": "markdown",
   "metadata": {},
   "source": [
    "w kolumnie `dataStream` występuje tylko jedna wartość, przy analizie danych, taka informacja nic nie wnosi.\n",
    "Można więc ją usunąć. "
   ]
  },
  {
   "cell_type": "code",
   "execution_count": 4,
   "metadata": {},
   "outputs": [
    {
     "name": "stdout",
     "output_type": "stream",
     "text": [
      "object\n",
      "int64\n"
     ]
    },
    {
     "data": {
      "text/plain": [
       "True"
      ]
     },
     "execution_count": 4,
     "metadata": {},
     "output_type": "execute_result"
    }
   ],
   "source": [
    "df = df.drop(['dataStream'], axis=1)\n",
    "df = df.drop_duplicates() \n",
    "print(df['probingTimestamp'].dtype)# we have to change that to date\n",
    "print(df['rowCount'].dtype) # it is good \n",
    "sum(df.duplicated(['probingTimestamp'])) == 0 # making sure that there are no duplicates in this column"
   ]
  },
  {
   "cell_type": "markdown",
   "metadata": {},
   "source": [
    "zmiana typy `probingTimestamp` z `object` na `datetime`,oraz sortowanie wg tej kolumny.\n",
    "Ponieważ kolumna `probingTimestamp` nie zawiera duplikatów, możemy użyć jej jako pola `index`"
   ]
  },
  {
   "cell_type": "code",
   "execution_count": 5,
   "metadata": {},
   "outputs": [
    {
     "data": {
      "text/html": [
       "<div>\n",
       "<style scoped>\n",
       "    .dataframe tbody tr th:only-of-type {\n",
       "        vertical-align: middle;\n",
       "    }\n",
       "\n",
       "    .dataframe tbody tr th {\n",
       "        vertical-align: top;\n",
       "    }\n",
       "\n",
       "    .dataframe thead th {\n",
       "        text-align: right;\n",
       "    }\n",
       "</style>\n",
       "<table border=\"1\" class=\"dataframe\">\n",
       "  <thead>\n",
       "    <tr style=\"text-align: right;\">\n",
       "      <th></th>\n",
       "      <th>rowCount</th>\n",
       "    </tr>\n",
       "    <tr>\n",
       "      <th>probingTimestamp</th>\n",
       "      <th></th>\n",
       "    </tr>\n",
       "  </thead>\n",
       "  <tbody>\n",
       "    <tr>\n",
       "      <th>2020-01-10 10:04:18.837</th>\n",
       "      <td>314015548</td>\n",
       "    </tr>\n",
       "    <tr>\n",
       "      <th>2020-01-10 10:16:29.063</th>\n",
       "      <td>314015548</td>\n",
       "    </tr>\n",
       "    <tr>\n",
       "      <th>2020-01-10 10:17:00.510</th>\n",
       "      <td>314015548</td>\n",
       "    </tr>\n",
       "    <tr>\n",
       "      <th>2020-01-10 10:18:00.977</th>\n",
       "      <td>314015548</td>\n",
       "    </tr>\n",
       "    <tr>\n",
       "      <th>2020-01-10 10:19:00.610</th>\n",
       "      <td>314015548</td>\n",
       "    </tr>\n",
       "    <tr>\n",
       "      <th>...</th>\n",
       "      <td>...</td>\n",
       "    </tr>\n",
       "    <tr>\n",
       "      <th>2020-05-02 07:56:00.117</th>\n",
       "      <td>289702943</td>\n",
       "    </tr>\n",
       "    <tr>\n",
       "      <th>2020-05-02 07:57:00.537</th>\n",
       "      <td>289702943</td>\n",
       "    </tr>\n",
       "    <tr>\n",
       "      <th>2020-05-02 07:58:00.083</th>\n",
       "      <td>289702943</td>\n",
       "    </tr>\n",
       "    <tr>\n",
       "      <th>2020-05-02 07:59:00.543</th>\n",
       "      <td>289702943</td>\n",
       "    </tr>\n",
       "    <tr>\n",
       "      <th>2020-05-02 08:00:00.120</th>\n",
       "      <td>289702943</td>\n",
       "    </tr>\n",
       "  </tbody>\n",
       "</table>\n",
       "<p>160513 rows × 1 columns</p>\n",
       "</div>"
      ],
      "text/plain": [
       "                          rowCount\n",
       "probingTimestamp                  \n",
       "2020-01-10 10:04:18.837  314015548\n",
       "2020-01-10 10:16:29.063  314015548\n",
       "2020-01-10 10:17:00.510  314015548\n",
       "2020-01-10 10:18:00.977  314015548\n",
       "2020-01-10 10:19:00.610  314015548\n",
       "...                            ...\n",
       "2020-05-02 07:56:00.117  289702943\n",
       "2020-05-02 07:57:00.537  289702943\n",
       "2020-05-02 07:58:00.083  289702943\n",
       "2020-05-02 07:59:00.543  289702943\n",
       "2020-05-02 08:00:00.120  289702943\n",
       "\n",
       "[160513 rows x 1 columns]"
      ]
     },
     "execution_count": 5,
     "metadata": {},
     "output_type": "execute_result"
    }
   ],
   "source": [
    "df['probingTimestamp'] = pd.to_datetime(df['probingTimestamp'])\n",
    "df = df.sort_values('probingTimestamp')\n",
    "df.set_index('probingTimestamp')"
   ]
  },
  {
   "cell_type": "markdown",
   "metadata": {},
   "source": [
    "dane są gotowe do zwizualizowania."
   ]
  },
  {
   "cell_type": "code",
   "execution_count": 6,
   "metadata": {},
   "outputs": [
    {
     "data": {
      "image/png": "[encoded data removed]",
      "text/plain": [
       "<Figure size 864x432 with 1 Axes>"
      ]
     },
     "metadata": {
      "needs_background": "light"
     },
     "output_type": "display_data"
    }
   ],
   "source": [
    "ax = df.plot(x='probingTimestamp', y='rowCount', figsize=(12,6))"
   ]
  },
  {
   "cell_type": "code",
   "execution_count": 7,
   "metadata": {},
   "outputs": [
    {
     "data": {
      "text/plain": [
       "<AxesSubplot:title={'center':'mean value per by hour'}, xlabel='probingTimestamp'>"
      ]
     },
     "execution_count": 7,
     "metadata": {},
     "output_type": "execute_result"
    },
    {
     "data": {
      "image/png": "[encoded data removed]",
      "text/plain": [
       "<Figure size 864x1152 with 4 Axes>"
      ]
     },
     "metadata": {
      "needs_background": "light"
     },
     "output_type": "display_data"
    }
   ],
   "source": [
    "fig, axs = plt.subplots(4, figsize=(12, 16))\n",
    "[ax.xaxis.label.set_visible(False) for ax in axs] \n",
    "\n",
    "df.groupby(df[\"probingTimestamp\"].dt.month).mean().plot(\n",
    "    title='mean value per month', rot=0, ax=axs[0], kind='bar', ylim=[2.7e8, 3.4e8])\n",
    "df.groupby(df[\"probingTimestamp\"].dt.day).mean().plot(\n",
    "    title='mean value per by day', rot=0, ax=axs[1], kind='bar', ylim=[2.7e8, 3.4e8])\n",
    "df.groupby(df[\"probingTimestamp\"].dt.weekday).mean().plot(\n",
    "    title='mean value per by weekday', rot=0, ax=axs[2], kind='bar', ylim=[2.7e8, 3.3e8])\n",
    "df.groupby(df[\"probingTimestamp\"].dt.hour).mean().plot(\n",
    "    title='mean value per by hour', rot=0, ax=axs[3], kind='bar', ylim=[2.7e8, 3.3e8])"
   ]
  },
  {
   "cell_type": "markdown",
   "metadata": {},
   "source": [
    "powyższe wykresy nie wskazują na sezonowość danych.\n",
    "### problemy zaobserwowane w czasie analizy danych\n",
    "1. powtarzające się wiersze\n",
    "2.  kolumna posiadająca tą samą wartość w każdej kolumnie zgodnie z założeniem, że ''najciekawsze są dane z największą wariancją''  jest to nic nie wnosząca (nie ciekawa) informacja\n",
    "3. obserwacje nie są posortowane chronologiczne\n",
    "4. ? po przygotowaniu danych widać, że obserawacje pojawiają się, co ok minute, ale występują wyjątki. Nie znając jednak kontekstu danych nie można stwierdzić, że to problem.  "
   ]
  },
  {
   "cell_type": "code",
   "execution_count": 9,
   "metadata": {},
   "outputs": [],
   "source": [
    "def find_duplicates(df: pd.DataFrame) -> pd.DataFrame:\n",
    "    duplicates = [i for i, d in enumerate(df.duplicated()) if d] # get indexes of duplicates\n",
    "    print(f'There are {len(duplicates)} duplicated rows in dataframe.')\n",
    "    return duplicates"
   ]
  },
  {
   "cell_type": "code",
   "execution_count": 10,
   "metadata": {},
   "outputs": [],
   "source": [
    "def find_irrelevant_columns(df: pd.DataFrame) -> pd.DataFrame:\n",
    "    new_df = df.copy()  # don't wanna mess with orginal of df\n",
    "    for column in df.columns:\n",
    "        if sum(df.duplicated(column)) == len(df) - 1:\n",
    "            print(\n",
    "                f'column {column} contains following value in every row: {df[column].values[0]}')\n"
   ]
  },
  {
   "cell_type": "code",
   "execution_count": 11,
   "metadata": {},
   "outputs": [],
   "source": [
    "def check_if_sorted(df: pd.DataFrame, column = 'probingTimestamp') -> pd.DataFrame:\n",
    "    try:\n",
    "        sorted = df[column].is_monotonic_increasing\n",
    "    except KeyError as exc:\n",
    "        raise 'invalid name of column were given'\n",
    "    if sorted:\n",
    "        print(f'dataframe is already sorted by {column}')\n",
    "    else:\n",
    "        print(f'dataframe is not sorted by {column}')"
   ]
  },
  {
   "cell_type": "markdown",
   "metadata": {},
   "source": [
    "testowanie działania funkcji"
   ]
  },
  {
   "cell_type": "code",
   "execution_count": 12,
   "metadata": {},
   "outputs": [
    {
     "name": "stdout",
     "output_type": "stream",
     "text": [
      "There are 222 duplicated rows in dataframe.\n",
      "column dataStream contains following value in every row: BCL_TaskCreation\n",
      "dataframe is not sorted by probingTimestamp\n"
     ]
    }
   ],
   "source": [
    "df = pd.read_csv('./BCL_TaskCreation.csv', sep = ';')\n",
    "find_duplicates(df)\n",
    "find_irrelevant_columns(df)\n",
    "check_if_sorted(df)"
   ]
  }
 ],
 "metadata": {
  "kernelspec": {
   "display_name": "Python 3.10.5 64-bit",
   "language": "python",
   "name": "python3"
  },
  "language_info": {
   "codemirror_mode": {
    "name": "ipython",
    "version": 3
   },
   "file_extension": ".py",
   "mimetype": "text/x-python",
   "name": "python",
   "nbconvert_exporter": "python",
   "pygments_lexer": "ipython3",
   "version": "3.10.5"
  },
  "orig_nbformat": 4,
  "vscode": {
   "interpreter": {
    "hash": "422b33617fcc9b891e5dfac35578ebe579537e6d1203b68408026ef304514aad"
   }
  }
 },
 "nbformat": 4,
 "nbformat_minor": 2
}
